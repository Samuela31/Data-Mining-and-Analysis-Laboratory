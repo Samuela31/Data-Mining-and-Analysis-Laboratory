{
  "nbformat": 4,
  "nbformat_minor": 0,
  "metadata": {
    "colab": {
      "provenance": [],
      "authorship_tag": "ABX9TyPUzM+oL2BNXBoMnCDJDvBT",
      "include_colab_link": true
    },
    "kernelspec": {
      "name": "python3",
      "display_name": "Python 3"
    },
    "language_info": {
      "name": "python"
    }
  },
  "cells": [
    {
      "cell_type": "markdown",
      "metadata": {
        "id": "view-in-github",
        "colab_type": "text"
      },
      "source": [
        "<a href=\"https://colab.research.google.com/github/Samuela31/Data-Mining-and-Analysis-Laboratory/blob/main/Data_mining_lab_6_Bayesian_Classification.ipynb\" target=\"_parent\"><img src=\"https://colab.research.google.com/assets/colab-badge.svg\" alt=\"Open In Colab\"/></a>"
      ]
    },
    {
      "cell_type": "code",
      "execution_count": null,
      "metadata": {
        "id": "zBrXq4ls9XvQ",
        "colab": {
          "base_uri": "https://localhost:8080/"
        },
        "outputId": "c656a8c8-0101-437d-d41b-547332205e07"
      },
      "outputs": [
        {
          "output_type": "stream",
          "name": "stdout",
          "text": [
            "     Outlook Temperature Humidity  Windy Play\n",
            "0      Rainy         Hot     High  False   No\n",
            "1      Rainy         Hot     High   True   No\n",
            "2   Overcast         Hot     High  False  Yes\n",
            "3      Sunny        Mild     High  False  Yes\n",
            "4      Sunny        Cool   Normal  False  Yes\n",
            "5      Sunny        Cool   Normal   True   No\n",
            "6   Overcast        Cool   Normal   True  Yes\n",
            "7      Rainy        Mild     High  False   No\n",
            "8      Rainy        Cool   Normal  False  Yes\n",
            "9      Sunny        Mild   Normal  False  Yes\n",
            "10     Rainy        Mild   Normal   True  Yes\n",
            "11  Overcast        Mild     High   True  Yes\n",
            "12  Overcast         Hot   Normal  False  Yes\n",
            "13     Sunny        Mild     High   True   No\n",
            "[[0. 1. 0. 0. 1. 0. 1. 0. 1. 0.]\n",
            " [0. 1. 0. 0. 1. 0. 1. 0. 0. 1.]\n",
            " [1. 0. 0. 0. 1. 0. 1. 0. 1. 0.]\n",
            " [0. 0. 1. 0. 0. 1. 1. 0. 1. 0.]\n",
            " [0. 0. 1. 1. 0. 0. 0. 1. 1. 0.]\n",
            " [0. 0. 1. 1. 0. 0. 0. 1. 0. 1.]\n",
            " [1. 0. 0. 1. 0. 0. 0. 1. 0. 1.]\n",
            " [0. 1. 0. 0. 0. 1. 1. 0. 1. 0.]\n",
            " [0. 1. 0. 1. 0. 0. 0. 1. 1. 0.]\n",
            " [0. 0. 1. 0. 0. 1. 0. 1. 1. 0.]\n",
            " [0. 1. 0. 0. 0. 1. 0. 1. 0. 1.]\n",
            " [1. 0. 0. 0. 0. 1. 1. 0. 0. 1.]\n",
            " [1. 0. 0. 0. 1. 0. 0. 1. 1. 0.]\n",
            " [0. 0. 1. 0. 0. 1. 1. 0. 0. 1.]]\n",
            "Accuracy: 0.6666666666666666\n",
            "Classification Report:\n",
            "               precision    recall  f1-score   support\n",
            "\n",
            "          No       0.50      1.00      0.67         1\n",
            "         Yes       1.00      0.50      0.67         2\n",
            "\n",
            "    accuracy                           0.67         3\n",
            "   macro avg       0.75      0.75      0.67         3\n",
            "weighted avg       0.83      0.67      0.67         3\n",
            "\n"
          ]
        },
        {
          "output_type": "stream",
          "name": "stderr",
          "text": [
            "/usr/local/lib/python3.10/dist-packages/sklearn/preprocessing/_encoders.py:868: FutureWarning: `sparse` was renamed to `sparse_output` in version 1.2 and will be removed in 1.4. `sparse_output` is ignored unless you leave `sparse` to its default value.\n",
            "  warnings.warn(\n"
          ]
        }
      ],
      "source": [
        "import pandas as pd\n",
        "from sklearn.model_selection import train_test_split\n",
        "from sklearn.naive_bayes import GaussianNB\n",
        "from sklearn.metrics import accuracy_score, classification_report\n",
        "from sklearn.preprocessing import OneHotEncoder\n",
        "\n",
        "data = pd.read_csv('play_golf.csv')\n",
        "print(data)\n",
        "\n",
        "encoder = OneHotEncoder(sparse=False) #Encode categorical variables using one-hot encoding\n",
        "x = encoder.fit_transform(data.drop('Play', axis=1))  #'Play' is the target variable\n",
        "y = data['Play']\n",
        "print(x)\n",
        "\n",
        "X_train, X_test, y_train, y_test = train_test_split(x, y, test_size=0.2, random_state=42)\n",
        "\n",
        "clf = GaussianNB() #Naive Bayes classifier\n",
        "clf.fit(X_train, y_train)\n",
        "y_pred = clf.predict(X_test)\n",
        "\n",
        "accuracy = accuracy_score(y_test, y_pred)\n",
        "print(\"Accuracy:\", accuracy)\n",
        "\n",
        "report = classification_report(y_test, y_pred)\n",
        "print(\"Classification Report:\\n\", report)\n"
      ]
    }
  ]
}