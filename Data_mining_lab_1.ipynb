{
  "nbformat": 4,
  "nbformat_minor": 0,
  "metadata": {
    "colab": {
      "provenance": [],
      "authorship_tag": "ABX9TyNDtKZJ7t6jmTd1VGbFbwqU",
      "include_colab_link": true
    },
    "kernelspec": {
      "name": "python3",
      "display_name": "Python 3"
    },
    "language_info": {
      "name": "python"
    }
  },
  "cells": [
    {
      "cell_type": "markdown",
      "metadata": {
        "id": "view-in-github",
        "colab_type": "text"
      },
      "source": [
        "<a href=\"https://colab.research.google.com/github/Samuela31/Data-Mining-and-Analysis-Laboratory/blob/main/Data_mining_lab_1.ipynb\" target=\"_parent\"><img src=\"https://colab.research.google.com/assets/colab-badge.svg\" alt=\"Open In Colab\"/></a>"
      ]
    },
    {
      "cell_type": "code",
      "execution_count": null,
      "metadata": {
        "colab": {
          "base_uri": "https://localhost:8080/"
        },
        "id": "Uwz5QXn2fbus",
        "outputId": "95b7e26a-0190-4775-a4e4-3082232c3b36"
      },
      "outputs": [
        {
          "output_type": "stream",
          "name": "stdout",
          "text": [
            "Cosine Similarity between d1 and d2: 0.12478354962115544\n"
          ]
        }
      ],
      "source": [
        "import string\n",
        "import math\n",
        "from collections import Counter\n",
        "\n",
        "def preprocess_text(text):\n",
        "    # Tokenize, lowercase, and remove punctuation\n",
        "    words = text.split()\n",
        "    words = [word.strip(string.punctuation).lower() for word in words]\n",
        "    return words\n",
        "\n",
        "def calculate_cosine_similarity(vector1, vector2):\n",
        "    dot_product = sum(vector1[i] * vector2[i] for i in range(len(vector1)))\n",
        "    magnitude1 = math.sqrt(sum(vector1[i] ** 2 for i in range(len(vector1))))\n",
        "    magnitude2 = math.sqrt(sum(vector2[i] ** 2 for i in range(len(vector2))))\n",
        "    similarity = dot_product / (magnitude1 * magnitude2)\n",
        "    return similarity\n",
        "\n",
        "# Read the contents of d1 and d2\n",
        "with open('d1.txt', 'r') as file:\n",
        "    d1_text = file.read()\n",
        "\n",
        "with open('d2.txt', 'r') as file:\n",
        "    d2_text = file.read()\n",
        "\n",
        "# Preprocess the text\n",
        "d1_words = preprocess_text(d1_text)\n",
        "d2_words = preprocess_text(d2_text)\n",
        "\n",
        "# Count vowels in each word\n",
        "vowels = ['a', 'e', 'i', 'o', 'u']\n",
        "\n",
        "d1_vowel_counts = [Counter(word)[v] for word in d1_words for v in vowels]\n",
        "d2_vowel_counts = [Counter(word)[v] for word in d2_words for v in vowels]\n",
        "\n",
        "# Calculate cosine similarity\n",
        "similarity = calculate_cosine_similarity(d1_vowel_counts, d2_vowel_counts)\n",
        "\n",
        "print(f\"Cosine Similarity between d1 and d2: {similarity}\")\n"
      ]
    },
    {
      "cell_type": "code",
      "source": [
        "import numpy as np\n",
        "from collections import Counter\n",
        "from sklearn.metrics.pairwise import cosine_similarity\n",
        "\n",
        "# Read the contents of the text files\n",
        "with open('d1.txt', 'r') as file:\n",
        "    d1_text = file.read()\n",
        "\n",
        "with open('d2.txt', 'r') as file:\n",
        "    d2_text = file.read()\n",
        "\n",
        "# Define a function to count vowels and create numeric vectors\n",
        "def count_vowels(text):\n",
        "    vowel_counts = [text.count('a'), text.count('e'), text.count('i'), text.count('o'), text.count('u')]\n",
        "    return vowel_counts\n",
        "\n",
        "# Calculate vowel counts and create numeric vectors\n",
        "d1_vector = count_vowels(d1_text)\n",
        "d2_vector = count_vowels(d2_text)\n",
        "\n",
        "# Convert lists to numpy arrays\n",
        "d1_array = np.array(d1_vector)\n",
        "d2_array = np.array(d2_vector)\n",
        "\n",
        "# Calculate the cosine similarity between the two vectors\n",
        "cosine_similarity_score = cosine_similarity([d1_array], [d2_array])[0][0]\n",
        "\n",
        "# Print the numeric vectors and the cosine similarity score\n",
        "print(\"Numeric Vector for d1.txt:\", d1_vector)\n",
        "print(\"Numeric Vector for d2.txt:\", d2_vector)\n",
        "print(\"Cosine Similarity Score:\", cosine_similarity_score)\n",
        "#print(\"The documents are {:.2f}% similar\".format(cosine_similarity_score * 100)) #it's not %\n"
      ],
      "metadata": {
        "colab": {
          "base_uri": "https://localhost:8080/"
        },
        "id": "L4M2eb9GkQ5F",
        "outputId": "7a96d431-ca49-4537-f98e-8a2288c5421f"
      },
      "execution_count": null,
      "outputs": [
        {
          "output_type": "stream",
          "name": "stdout",
          "text": [
            "Numeric Vector for d1.txt: [5, 6, 3, 1, 0]\n",
            "Numeric Vector for d2.txt: [3, 5, 4, 7, 3]\n",
            "Cosine Similarity Score: 0.730867957149367\n"
          ]
        }
      ]
    }
  ]
}