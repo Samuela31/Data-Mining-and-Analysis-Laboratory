{
  "nbformat": 4,
  "nbformat_minor": 0,
  "metadata": {
    "colab": {
      "provenance": []
    },
    "kernelspec": {
      "name": "python3",
      "display_name": "Python 3"
    },
    "language_info": {
      "name": "python"
    }
  },
  "cells": [
    {
      "cell_type": "code",
      "execution_count": null,
      "metadata": {
        "colab": {
          "base_uri": "https://localhost:8080/"
        },
        "id": "f9Cjty31v2Hz",
        "outputId": "ef01f5fa-2258-4796-a941-38b9f9212fb3"
      },
      "outputs": [
        {
          "output_type": "stream",
          "name": "stdout",
          "text": [
            "['B', 'E', 'A', 'C', 'D']\n",
            "Empty DataFrame\n",
            "Columns: [B, E, A, C, D]\n",
            "Index: []\n",
            "   B  E  A  C  D\n",
            "0  1  0  1  0  0\n",
            "1  1  0  0  0  1\n",
            "2  1  0  0  1  0\n",
            "3  1  0  1  0  1\n",
            "4  0  0  1  1  0\n",
            "5  1  0  0  1  0\n",
            "6  0  0  1  1  0\n",
            "7  1  1  1  1  0\n",
            "8  1  0  1  1  0\n",
            "   B  E  A  C  D  Cluster\n",
            "0  1  0  1  0  0        1\n",
            "1  1  0  0  0  1        1\n",
            "2  1  0  0  1  0        0\n",
            "3  1  0  1  0  1        1\n",
            "4  0  0  1  1  0        2\n",
            "5  1  0  0  1  0        0\n",
            "6  0  0  1  1  0        2\n",
            "7  1  1  1  1  0        0\n",
            "8  1  0  1  1  0        0\n"
          ]
        },
        {
          "output_type": "stream",
          "name": "stderr",
          "text": [
            "/usr/local/lib/python3.10/dist-packages/sklearn/cluster/_kmeans.py:870: FutureWarning: The default value of `n_init` will change from 10 to 'auto' in 1.4. Set the value of `n_init` explicitly to suppress the warning\n",
            "  warnings.warn(\n"
          ]
        }
      ],
      "source": [
        "from sklearn.cluster import KMeans\n",
        "import pandas as pd\n",
        "\n",
        "df = pd.read_csv('apri.csv')\n",
        "\n",
        "#Create a list of unique items in the dataset (set is used to prevent duplicate item, TID is ignored)\n",
        "unique_items = list(set(item for sublist in df['ITEMSETS'].str.split(', ') for item in sublist))\n",
        "print(unique_items)\n",
        "\n",
        "#Create a one-hot encoded DataFrame\n",
        "oht = pd.DataFrame(columns=unique_items)\n",
        "print(oht)\n",
        "\n",
        "for index, row in df.iterrows():\n",
        "    itemset = row['ITEMSETS'].split(', ')\n",
        "    oht.loc[index, itemset] = 1\n",
        "\n",
        "oht.fillna(0, inplace=True)\n",
        "print(oht)\n",
        "\n",
        "kmeans = KMeans(n_clusters=3)\n",
        "kmeans.fit(oht)\n",
        "\n",
        "# Add cluster labels to your original DataFrame\n",
        "oht['Cluster'] = kmeans.labels_\n",
        "\n",
        "# Print the cluster assignments for each transaction\n",
        "print(oht)"
      ]
    }
  ]
}